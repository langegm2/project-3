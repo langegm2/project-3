{
 "cells": [
  {
   "cell_type": "code",
   "execution_count": 1,
   "id": "8b994b88",
   "metadata": {},
   "outputs": [
    {
     "name": "stdout",
     "output_type": "stream",
     "text": [
      "Collecting psycopg2\n",
      "  Downloading psycopg2-2.9.6.tar.gz (383 kB)\n",
      "\u001b[2K     \u001b[90m━━━━━━━━━━━━━━━━━━━━━━━━━━━━━━━━━━━━━━━\u001b[0m \u001b[32m384.0/384.0 kB\u001b[0m \u001b[31m6.6 MB/s\u001b[0m eta \u001b[36m0:00:00\u001b[0ma \u001b[36m0:00:01\u001b[0m\n",
      "\u001b[?25h  Preparing metadata (setup.py) ... \u001b[?25ldone\n",
      "\u001b[?25hBuilding wheels for collected packages: psycopg2\n",
      "  Building wheel for psycopg2 (setup.py) ... \u001b[?25ldone\n",
      "\u001b[?25h  Created wheel for psycopg2: filename=psycopg2-2.9.6-cp39-cp39-macosx_10_9_x86_64.whl size=133955 sha256=c9bdfa6ebb3850ee875c049cd16cf89d3f7eecfa16993347ba82213f04144eaf\n",
      "  Stored in directory: /Users/erick/Library/Caches/pip/wheels/e0/1d/09/2bc95af38e38d614767de0126fbf27a55a5c277f612aa6a51f\n",
      "Successfully built psycopg2\n",
      "Installing collected packages: psycopg2\n",
      "Successfully installed psycopg2-2.9.6\n"
     ]
    }
   ],
   "source": [
    "!pip install psycopg2"
   ]
  },
  {
   "cell_type": "code",
   "execution_count": 3,
   "id": "dd4a1f6f",
   "metadata": {},
   "outputs": [],
   "source": [
    "from sqlalchemy import create_engine\n",
    "\n",
    "#from config import username, password, hostname, port, db\n",
    "\n",
    "\n",
    "username = \"postgres\"\n",
    "password = \"Tempting2783!\"\n",
    "hostname = \"localhost\"\n",
    "port = \"5432\"\n",
    "db = \"emissions\"\n",
    "\n",
    "\n",
    "\n",
    "engine = create_engine(f'postgresql+psycopg2://{username}:{password}@{hostname}:{port}/{db}')"
   ]
  },
  {
   "cell_type": "code",
   "execution_count": null,
   "id": "50a9e857",
   "metadata": {},
   "outputs": [],
   "source": [
    "df.to_sql(\"iris\", con=engine, if_exists=\"append\", index=False)"
   ]
  }
 ],
 "metadata": {
  "kernelspec": {
   "display_name": "Python 3 (ipykernel)",
   "language": "python",
   "name": "python3"
  },
  "language_info": {
   "codemirror_mode": {
    "name": "ipython",
    "version": 3
   },
   "file_extension": ".py",
   "mimetype": "text/x-python",
   "name": "python",
   "nbconvert_exporter": "python",
   "pygments_lexer": "ipython3",
   "version": "3.9.13"
  }
 },
 "nbformat": 4,
 "nbformat_minor": 5
}
